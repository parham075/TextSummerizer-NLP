{
 "cells": [
  {
   "cell_type": "markdown",
   "metadata": {},
   "source": [
    "## import dependencies"
   ]
  },
  {
   "cell_type": "code",
   "execution_count": 1,
   "metadata": {},
   "outputs": [
    {
     "name": "stderr",
     "output_type": "stream",
     "text": [
      "/home/p/miniconda3/envs/nlp/lib/python3.10/site-packages/tqdm/auto.py:21: TqdmWarning: IProgress not found. Please update jupyter and ipywidgets. See https://ipywidgets.readthedocs.io/en/stable/user_install.html\n",
      "  from .autonotebook import tqdm as notebook_tqdm\n",
      "[nltk_data] Downloading package punkt to /home/p/nltk_data...\n",
      "[nltk_data]   Package punkt is already up-to-date!\n"
     ]
    },
    {
     "data": {
      "text/plain": [
       "True"
      ]
     },
     "execution_count": 1,
     "metadata": {},
     "output_type": "execute_result"
    }
   ],
   "source": [
    "from transformers import pipeline, set_seed\n",
    "\n",
    "import matplotlib.pyplot as plt\n",
    "from datasets import load_dataset\n",
    "import pandas as pd\n",
    "from datasets import load_dataset, load_metric, concatenate_datasets, DatasetDict\n",
    "\n",
    "from transformers import AutoModelForSeq2SeqLM, AutoTokenizer\n",
    "\n",
    "import nltk\n",
    "from nltk.tokenize import sent_tokenize\n",
    "\n",
    "from tqdm import tqdm\n",
    "import torch\n",
    "\n",
    "nltk.download(\"punkt\")"
   ]
  },
  {
   "cell_type": "code",
   "execution_count": 2,
   "metadata": {},
   "outputs": [
    {
     "name": "stderr",
     "output_type": "stream",
     "text": [
      "Some weights of PegasusForConditionalGeneration were not initialized from the model checkpoint at google/pegasus-cnn_dailymail and are newly initialized: ['model.decoder.embed_positions.weight', 'model.encoder.embed_positions.weight']\n",
      "You should probably TRAIN this model on a down-stream task to be able to use it for predictions and inference.\n"
     ]
    }
   ],
   "source": [
    "DEVICE = \"cuda\" if torch.cuda.is_available() else \"cpu\"\n",
    "DEVICE\n",
    "PRETRAINED_MODEL_PATH = \"google/pegasus-cnn_dailymail\"\n",
    "TOKENIZER = AutoTokenizer.from_pretrained(PRETRAINED_MODEL_PATH)\n",
    "PRETRAINED_MODEL = AutoModelForSeq2SeqLM.from_pretrained(PRETRAINED_MODEL_PATH).to(DEVICE)"
   ]
  },
  {
   "cell_type": "code",
   "execution_count": 3,
   "metadata": {},
   "outputs": [
    {
     "data": {
      "text/plain": [
       "(DatasetDict({\n",
       "     train: Dataset({\n",
       "         features: ['id', 'dialogue', 'summary'],\n",
       "         num_rows: 14732\n",
       "     })\n",
       "     test: Dataset({\n",
       "         features: ['id', 'dialogue', 'summary'],\n",
       "         num_rows: 819\n",
       "     })\n",
       "     validation: Dataset({\n",
       "         features: ['id', 'dialogue', 'summary'],\n",
       "         num_rows: 818\n",
       "     })\n",
       " }),\n",
       " DatasetDict({\n",
       "     train: Dataset({\n",
       "         features: ['article', 'summary'],\n",
       "         num_rows: 18949\n",
       "     })\n",
       "     test: Dataset({\n",
       "         features: ['article', 'summary'],\n",
       "         num_rows: 3269\n",
       "     })\n",
       " }))"
      ]
     },
     "execution_count": 3,
     "metadata": {},
     "output_type": "execute_result"
    }
   ],
   "source": [
    "samsum_data = load_dataset(\"samsum\")\n",
    "legal_summarization_data = load_dataset(\"lighteval/legal_summarization\",\"BillSum\")\n",
    "samsum_data, legal_summarization_data"
   ]
  },
  {
   "cell_type": "code",
   "execution_count": 4,
   "metadata": {},
   "outputs": [],
   "source": [
    "sam_split_len = [len(samsum_data[split])for split in samsum_data]\n",
    "legal_split_len = [len(legal_summarization_data[split])for split in legal_summarization_data]\n",
    "samsum_data = samsum_data.remove_columns('id').rename_column(\"dialogue\",\"article\")"
   ]
  },
  {
   "cell_type": "code",
   "execution_count": 5,
   "metadata": {},
   "outputs": [],
   "source": [
    "def merge_datasets(ds):\n",
    "  merged_dataset = DatasetDict()\n",
    "  merged_dataset['train'] = concatenate_datasets([dataset['train'] for dataset in ds],split=\"train\")\n",
    "  merged_dataset['test'] = concatenate_datasets([dataset['test'] for dataset in ds],split=\"test\")\n",
    "  merged_dataset['validation'] = concatenate_datasets([dataset['validation'] for dataset in ds if len(dataset)==3])\n",
    "  return merged_dataset\n",
    "dataset = merge_datasets([legal_summarization_data,samsum_data])"
   ]
  },
  {
   "cell_type": "code",
   "execution_count": 34,
   "metadata": {},
   "outputs": [
    {
     "data": {
      "text/plain": [
       "(22,\n",
       " \"SECTION 1. SHORT TITLE. This Act may be cited as the ``Federal Energy Price Protection Act''. SEC. 2. PROTECTION OF CONSUMERS AG\")"
      ]
     },
     "execution_count": 34,
     "metadata": {},
     "output_type": "execute_result"
    }
   ],
   "source": [
    "article = dataset['test'][250]['article']\n",
    "article = article[:128]\n",
    "len(article.split(\" \")), article"
   ]
  },
  {
   "cell_type": "code",
   "execution_count": 24,
   "metadata": {},
   "outputs": [
    {
     "data": {
      "text/plain": [
       "1291"
      ]
     },
     "execution_count": 24,
     "metadata": {},
     "output_type": "execute_result"
    }
   ],
   "source": [
    "len(article.split(\" \"))"
   ]
  },
  {
   "cell_type": "code",
   "execution_count": 30,
   "metadata": {},
   "outputs": [],
   "source": [
    "pipe = pipeline('summarization', model=PRETRAINED_MODEL,tokenizer=TOKENIZER,)"
   ]
  },
  {
   "cell_type": "code",
   "execution_count": 35,
   "metadata": {},
   "outputs": [
    {
     "name": "stderr",
     "output_type": "stream",
     "text": [
      "Your max_length is set to 128, but your input_length is only 33. Since this is a summarization task, where outputs shorter than the input are typically wanted, you might consider decreasing max_length manually, e.g. summarizer('...', max_length=16)\n"
     ]
    },
    {
     "data": {
      "text/plain": [
       "[{'summary_text': \"This Act may be cited as the Federal Energy Price Protection Act''<n>This Act may be cited as the Federal Energy Price Protection Act''\"}]"
      ]
     },
     "execution_count": 35,
     "metadata": {},
     "output_type": "execute_result"
    }
   ],
   "source": [
    "pipe_out = pipe(article)\n",
    "pipe_out"
   ]
  },
  {
   "cell_type": "code",
   "execution_count": 36,
   "metadata": {},
   "outputs": [
    {
     "name": "stderr",
     "output_type": "stream",
     "text": [
      "/tmp/ipykernel_18460/1465679614.py:1: FutureWarning: load_metric is deprecated and will be removed in the next major version of datasets. Use 'evaluate.load' instead, from the new library 🤗 Evaluate: https://huggingface.co/docs/evaluate\n",
      "  rouge_metric = load_metric('rouge')\n",
      "/home/p/miniconda3/envs/nlp/lib/python3.10/site-packages/datasets/load.py:759: FutureWarning: The repository for rouge contains custom code which must be executed to correctly load the metric. You can inspect the repository content at https://raw.githubusercontent.com/huggingface/datasets/2.19.0/metrics/rouge/rouge.py\n",
      "You can avoid this message in future by passing the argument `trust_remote_code=True`.\n",
      "Passing `trust_remote_code=True` will be mandatory to load this metric from the next major release of `datasets`.\n",
      "  warnings.warn(\n",
      "Downloading builder script: 5.65kB [00:00, 14.8MB/s]                   \n"
     ]
    }
   ],
   "source": [
    "rouge_metric = load_metric('rouge')\n",
    "score = calcu"
   ]
  },
  {
   "cell_type": "code",
   "execution_count": 38,
   "metadata": {},
   "outputs": [
    {
     "data": {
      "text/plain": [
       "{'input_ids': [67794, 3898, 62268, 54375, 107, 182, 2046, 218, 129, 8919, 130, 109, 110, 105, 30983, 3013, 3544, 4872, 2046, 131, 131, 107, 11257, 107, 280, 107, 90154, 2793, 12852, 67550, 11862, 11357, 1], 'attention_mask': [1, 1, 1, 1, 1, 1, 1, 1, 1, 1, 1, 1, 1, 1, 1, 1, 1, 1, 1, 1, 1, 1, 1, 1, 1, 1, 1, 1, 1, 1, 1, 1, 1]}"
      ]
     },
     "execution_count": 38,
     "metadata": {},
     "output_type": "execute_result"
    }
   ],
   "source": [
    "TOKENIZER(article,)"
   ]
  }
 ],
 "metadata": {
  "kernelspec": {
   "display_name": "nlp",
   "language": "python",
   "name": "python3"
  },
  "language_info": {
   "codemirror_mode": {
    "name": "ipython",
    "version": 3
   },
   "file_extension": ".py",
   "mimetype": "text/x-python",
   "name": "python",
   "nbconvert_exporter": "python",
   "pygments_lexer": "ipython3",
   "version": "3.10.14"
  }
 },
 "nbformat": 4,
 "nbformat_minor": 2
}
