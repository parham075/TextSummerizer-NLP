{
 "cells": [
  {
   "cell_type": "markdown",
   "metadata": {},
   "source": [
    "## import dependencies"
   ]
  },
  {
   "cell_type": "code",
   "execution_count": 94,
   "metadata": {},
   "outputs": [
    {
     "name": "stderr",
     "output_type": "stream",
     "text": [
      "[nltk_data] Downloading package punkt to /home/p/nltk_data...\n",
      "[nltk_data]   Package punkt is already up-to-date!\n"
     ]
    },
    {
     "data": {
      "text/plain": [
       "True"
      ]
     },
     "execution_count": 94,
     "metadata": {},
     "output_type": "execute_result"
    }
   ],
   "source": [
    "from transformers import pipeline, set_seed\n",
    "\n",
    "import matplotlib.pyplot as plt\n",
    "from datasets import load_dataset\n",
    "import pandas as pd\n",
    "from datasets import load_dataset, load_metric, concatenate_datasets, DatasetDict\n",
    "\n",
    "from transformers import AutoModelForSeq2SeqLM, AutoTokenizer\n",
    "\n",
    "import nltk\n",
    "from nltk.tokenize import sent_tokenize\n",
    "\n",
    "from tqdm import tqdm\n",
    "import torch\n",
    "\n",
    "nltk.download(\"punkt\")"
   ]
  },
  {
   "cell_type": "code",
   "execution_count": 8,
   "metadata": {},
   "outputs": [
    {
     "name": "stderr",
     "output_type": "stream",
     "text": [
      "Some weights of PegasusForConditionalGeneration were not initialized from the model checkpoint at google/pegasus-cnn_dailymail and are newly initialized: ['model.decoder.embed_positions.weight', 'model.encoder.embed_positions.weight']\n",
      "You should probably TRAIN this model on a down-stream task to be able to use it for predictions and inference.\n"
     ]
    }
   ],
   "source": [
    "DEVICE = \"cuda\" if torch.cuda.is_available() else \"cpu\"\n",
    "DEVICE\n",
    "PRETRAINED_MODEL_PATH = \"google/pegasus-cnn_dailymail\"\n",
    "TOKENIZER = AutoTokenizer.from_pretrained(PRETRAINED_MODEL_PATH)\n",
    "PRETRAINED_MODEL = AutoModelForSeq2SeqLM.from_pretrained(PRETRAINED_MODEL_PATH).to(DEVICE)"
   ]
  },
  {
   "cell_type": "code",
   "execution_count": 190,
   "metadata": {},
   "outputs": [
    {
     "data": {
      "text/plain": [
       "(DatasetDict({\n",
       "     train: Dataset({\n",
       "         features: ['id', 'dialogue', 'summary'],\n",
       "         num_rows: 14732\n",
       "     })\n",
       "     test: Dataset({\n",
       "         features: ['id', 'dialogue', 'summary'],\n",
       "         num_rows: 819\n",
       "     })\n",
       "     validation: Dataset({\n",
       "         features: ['id', 'dialogue', 'summary'],\n",
       "         num_rows: 818\n",
       "     })\n",
       " }),\n",
       " DatasetDict({\n",
       "     train: Dataset({\n",
       "         features: ['article', 'summary'],\n",
       "         num_rows: 18949\n",
       "     })\n",
       "     test: Dataset({\n",
       "         features: ['article', 'summary'],\n",
       "         num_rows: 3269\n",
       "     })\n",
       " }))"
      ]
     },
     "execution_count": 190,
     "metadata": {},
     "output_type": "execute_result"
    }
   ],
   "source": [
    "samsum_data = load_dataset(\"samsum\")\n",
    "legal_summarization_data = load_dataset(\"lighteval/legal_summarization\",\"BillSum\")\n",
    "samsum_data, legal_summarization_data"
   ]
  },
  {
   "cell_type": "code",
   "execution_count": 191,
   "metadata": {},
   "outputs": [
    {
     "data": {
      "text/plain": [
       "(DatasetDict({\n",
       "     train: Dataset({\n",
       "         features: ['article', 'summary'],\n",
       "         num_rows: 18949\n",
       "     })\n",
       "     test: Dataset({\n",
       "         features: ['article', 'summary'],\n",
       "         num_rows: 3269\n",
       "     })\n",
       " }),\n",
       " DatasetDict({\n",
       "     train: Dataset({\n",
       "         features: ['article', 'summary'],\n",
       "         num_rows: 14732\n",
       "     })\n",
       "     test: Dataset({\n",
       "         features: ['article', 'summary'],\n",
       "         num_rows: 819\n",
       "     })\n",
       "     validation: Dataset({\n",
       "         features: ['article', 'summary'],\n",
       "         num_rows: 818\n",
       "     })\n",
       " }))"
      ]
     },
     "execution_count": 191,
     "metadata": {},
     "output_type": "execute_result"
    }
   ],
   "source": [
    "sam_split_len = [len(samsum_data[split])for split in samsum_data]\n",
    "legal_split_len = [len(legal_summarization_data[split])for split in legal_summarization_data]\n",
    "samsum_data = samsum_data.remove_columns('id').rename_column(\"dialogue\",\"article\")\n",
    "legal_summarization_data , \n"
   ]
  }
 ],
 "metadata": {
  "kernelspec": {
   "display_name": "nlp",
   "language": "python",
   "name": "python3"
  },
  "language_info": {
   "codemirror_mode": {
    "name": "ipython",
    "version": 3
   },
   "file_extension": ".py",
   "mimetype": "text/x-python",
   "name": "python",
   "nbconvert_exporter": "python",
   "pygments_lexer": "ipython3",
   "version": "3.10.14"
  }
 },
 "nbformat": 4,
 "nbformat_minor": 2
}
